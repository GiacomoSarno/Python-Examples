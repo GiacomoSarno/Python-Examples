{
 "cells": [
  {
   "cell_type": "code",
   "execution_count": 1,
   "metadata": {},
   "outputs": [
    {
     "data": {
      "text/plain": [
       "40"
      ]
     },
     "execution_count": 1,
     "metadata": {},
     "output_type": "execute_result"
    }
   ],
   "source": [
    "10 + 30"
   ]
  },
  {
   "cell_type": "code",
   "execution_count": 2,
   "metadata": {},
   "outputs": [],
   "source": [
    "a = 10"
   ]
  },
  {
   "cell_type": "code",
   "execution_count": 3,
   "metadata": {},
   "outputs": [],
   "source": [
    "import numpy as np"
   ]
  },
  {
   "cell_type": "code",
   "execution_count": 4,
   "metadata": {},
   "outputs": [],
   "source": [
    "import numpy as np"
   ]
  },
  {
   "cell_type": "code",
   "execution_count": null,
   "metadata": {},
   "outputs": [],
   "source": []
  },
  {
   "cell_type": "code",
   "execution_count": 5,
   "metadata": {},
   "outputs": [],
   "source": [
    "import pybullet as p\n",
    "import numpy as np\n",
    "import math\n",
    "from ikpy.chain import Chain\n",
    "from datetime import datetime\n",
    "import time\n"
   ]
  },
  {
   "cell_type": "code",
   "execution_count": 6,
   "metadata": {
    "scrolled": false
   },
   "outputs": [],
   "source": [
    "p.connect(p.GUI)\n",
    "plane = p.loadURDF(\"/home/dlsuser/git/pybullet_robots/data/plane.urdf\", [0, 0, -0.5])\n",
    "p.setGravity(0, 0, -9.8)\n",
    "simulationFreq = 1. / 500\n",
    "p.setTimeStep(simulationFreq)\n",
    "# p.setDefaultContactERP(0)\n",
    "# urdfFlags = p.URDF_USE_SELF_COLLISION+p.URDF_USE_SELF_COLLISION_EXCLUDE_ALL_PARENTS\n",
    "urdfFlags = p.URDF_USE_SELF_COLLISION\n",
    "quadruped = p.loadURDF(\"/home/dlsuser/git/pybullet_robots/data/hyq/hyq.urdf\", [0, 0, 0], [0, 0.5, 0.5, 0], flags=urdfFlags, useFixedBase=False)"
   ]
  },
  {
   "cell_type": "code",
   "execution_count": 7,
   "metadata": {},
   "outputs": [],
   "source": [
    "my_chain = Chain.from_urdf_file(\"/home/dlsuser/git/pybullet_robots/data/hyq/hyq.urdf\")"
   ]
  },
  {
   "cell_type": "code",
   "execution_count": 8,
   "metadata": {
    "scrolled": true
   },
   "outputs": [],
   "source": [
    "my_chain = Chain.from_urdf_file(\"/home/dlsuser/git/pybullet_robots/data/hyq/hyq.urdf\")"
   ]
  },
  {
   "cell_type": "code",
   "execution_count": null,
   "metadata": {},
   "outputs": [],
   "source": []
  },
  {
   "cell_type": "code",
   "execution_count": 9,
   "metadata": {},
   "outputs": [
    {
     "name": "stdout",
     "output_type": "stream",
     "text": [
      "(0, b'FR_hip_motor_2_chassis_joint', 0, 7, 6, 1, 0.0, 0.0, 0.0, -1.0, 100.0, 100.0, b'FR_hip_motor', (0.0, 0.0, -1.0), (-0.15, 0.0, 0.15), (0.0, 0.0, 0.0, 1.0), -1)\n",
      "(1, b'FR_upper_leg_2_hip_motor_joint', 0, 8, 7, 1, 0.0, 0.0, 0.0, -1.0, 100.0, 100.0, b'FR_upper_leg', (1.0, 0.0, 0.0), (-0.02, 0.0, 0.25), (0.0, 0.0, 0.0, 1.0), 0)\n",
      "(2, b'FR_lower_leg_2_upper_leg_joint', 0, 9, 8, 1, 0.0, 0.0, 0.0, -1.0, 100.0, 100.0, b'FR_lower_leg', (1.0, 0.0, 0.0), (0.0, -0.21, -0.21), (0.0, 0.0, 0.0, 1.0), 1)\n",
      "(3, b'FR_EndEffector', 0, 10, 9, 1, 0.0, 0.0, 0.0, -1.0, 100.0, 100.0, b'FR_EndEffector_point', (1.0, 0.0, 0.0), (0.0, -0.13999999999999999, 0.13), (0.0, 0.0, 0.0, 1.0), 2)\n",
      "(4, b'FL_hip_motor_2_chassis_joint', 0, 11, 10, 1, 0.0, 0.0, 0.0, -1.0, 100.0, 100.0, b'FL_hip_motor', (0.0, 0.0, 1.0), (0.15, 0.0, 0.15), (0.0, 0.0, 0.0, 1.0), -1)\n",
      "(5, b'FL_upper_leg_2_hip_motor_joint', 0, 12, 11, 1, 0.0, 0.0, 0.0, -1.0, 100.0, 100.0, b'FL_upper_leg', (1.0, 0.0, 0.0), (0.02, 0.0, 0.25), (0.0, 0.0, 0.0, 1.0), 4)\n",
      "(6, b'FL_lower_leg_2_upper_leg_joint', 0, 13, 12, 1, 0.0, 0.0, 0.0, -1.0, 100.0, 100.0, b'FL_lower_leg', (1.0, 0.0, 0.0), (0.0, -0.21, -0.21), (0.0, 0.0, 0.0, 1.0), 5)\n",
      "(7, b'FL_EndEffector', 0, 14, 13, 1, 0.0, 0.0, 0.0, -1.0, 100.0, 100.0, b'FL_EndEffector_point', (1.0, 0.0, 0.0), (0.0, -0.13999999999999999, 0.13), (0.0, 0.0, 0.0, 1.0), 6)\n",
      "(8, b'RR_hip_motor_2_chassis_joint', 0, 15, 14, 1, 0.0, 0.0, 0.0, -1.0, 100.0, 100.0, b'RR_hip_motor', (0.0, 0.0, -1.0), (-0.15, 0.0, -0.15), (0.0, 0.0, 0.0, 1.0), -1)\n",
      "(9, b'RR_upper_leg_2_hip_motor_joint', 0, 16, 15, 1, 0.0, 0.0, 0.0, -1.0, 100.0, 100.0, b'RR_upper_leg', (1.0, 0.0, 0.0), (-0.02, 0.0, -0.25), (0.0, 0.0, 0.0, 1.0), 8)\n",
      "(10, b'RR_lower_leg_2_upper_leg_joint', 0, 17, 16, 1, 0.0, 0.0, 0.0, -1.0, 100.0, 100.0, b'RR_lower_leg', (1.0, 0.0, 0.0), (0.0, -0.21, 0.29), (0.0, 0.0, 0.0, 1.0), 9)\n",
      "(11, b'RR_EndEffector', 0, 18, 17, 1, 0.0, 0.0, 0.0, -1.0, 100.0, 100.0, b'RR_EndEffector_point', (1.0, 0.0, 0.0), (0.0, -0.13999999999999999, -0.09), (0.0, 0.0, 0.0, 1.0), 10)\n",
      "(12, b'RL_hip_motor_2_chassis_joint', 0, 19, 18, 1, 0.0, 0.0, 0.0, -1.0, 100.0, 100.0, b'RL_hip_motor', (0.0, 0.0, 1.0), (0.15, 0.0, -0.15), (0.0, 0.0, 0.0, 1.0), -1)\n",
      "(13, b'RL_upper_leg_2_hip_motor_joint', 0, 20, 19, 1, 0.0, 0.0, 0.0, -1.0, 100.0, 100.0, b'RL_upper_leg', (1.0, 0.0, 0.0), (0.02, 0.0, -0.25), (0.0, 0.0, 0.0, 1.0), 12)\n",
      "(14, b'RL_lower_leg_2_upper_leg_joint', 0, 21, 20, 1, 0.0, 0.0, 0.0, -1.0, 100.0, 100.0, b'RL_lower_leg', (1.0, 0.0, 0.0), (0.0, -0.21, 0.29), (0.0, 0.0, 0.0, 1.0), 13)\n",
      "(15, b'RL_EndEffector', 0, 22, 21, 1, 0.0, 0.0, 0.0, -1.0, 100.0, 100.0, b'RL_EndEffector_point', (1.0, 0.0, 0.0), (0.0, -0.13999999999999999, -0.09), (0.0, 0.0, 0.0, 1.0), 14)\n"
     ]
    }
   ],
   "source": [
    "my_chain = Chain.from_urdf_file(\"/home/dlsuser/git/pybullet_robots/data/hyq/hyq.urdf\")\n",
    "\n",
    "\n",
    "\n",
    "for j in range(p.getNumJoints(quadruped)):\n",
    "    print(p.getJointInfo(quadruped, j))"
   ]
  },
  {
   "cell_type": "code",
   "execution_count": null,
   "metadata": {},
   "outputs": [],
   "source": []
  }
 ],
 "metadata": {
  "kernelspec": {
   "display_name": "Python 3",
   "language": "python",
   "name": "python3"
  },
  "language_info": {
   "codemirror_mode": {
    "name": "ipython",
    "version": 3
   },
   "file_extension": ".py",
   "mimetype": "text/x-python",
   "name": "python",
   "nbconvert_exporter": "python",
   "pygments_lexer": "ipython3",
   "version": "3.7.3"
  }
 },
 "nbformat": 4,
 "nbformat_minor": 2
}
